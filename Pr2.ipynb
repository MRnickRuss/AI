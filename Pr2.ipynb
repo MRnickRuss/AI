{
  "cells": [
    {
      "cell_type": "markdown",
      "metadata": {
        "id": "view-in-github",
        "colab_type": "text"
      },
      "source": [
        "<a href=\"https://colab.research.google.com/github/MRnickRuss/AI/blob/main/Pr2.ipynb\" target=\"_parent\"><img src=\"https://colab.research.google.com/assets/colab-badge.svg\" alt=\"Open In Colab\"/></a>"
      ]
    },
    {
      "cell_type": "markdown",
      "metadata": {
        "id": "jVOridAYaoD_"
      },
      "source": [
        "# Практическая работа №2. Использование глубоких нейронных сетей для решения задач регрессии и классификации\n",
        "\n"
      ]
    },
    {
      "cell_type": "markdown",
      "metadata": {
        "id": "xfLS4L8wbf5M"
      },
      "source": [
        "**Ссылка на код с пары:**\n",
        "https://colab.research.google.com/drive/18EM8mrpURStkmbxWjZybWbWh23Si5b4A?usp=sharing\n"
      ]
    },
    {
      "cell_type": "markdown",
      "metadata": {
        "id": "ChzaEMuFavMw"
      },
      "source": [
        "## Задание №1. Обучение модели ИНС для решения задачи регрессии\n",
        "\n"
      ]
    },
    {
      "cell_type": "markdown",
      "metadata": {
        "id": "_AW7ypoN3qSi"
      },
      "source": [
        "Постройте глубокую нейронную сеть для предсказания цен на недвижимость в городе Бостон, используя датасет датасет boston_housing_price"
      ]
    },
    {
      "cell_type": "markdown",
      "metadata": {
        "id": "O1PDCog53nrg"
      },
      "source": [
        "[Описание датасета](https://www.hackersrealm.net/post/boston-house-price-prediction-analysis-using-python)"
      ]
    },
    {
      "cell_type": "markdown",
      "metadata": {
        "id": "QWLURy8z0u3k"
      },
      "source": [
        "#### 1.1. Загружаем исходные данные:"
      ]
    },
    {
      "cell_type": "code",
      "execution_count": 1,
      "metadata": {
        "colab": {
          "base_uri": "https://localhost:8080/"
        },
        "id": "vGAIXw8gzpLL",
        "outputId": "5221a853-3f66-48fc-a96d-6ef2a765a244"
      },
      "outputs": [
        {
          "output_type": "execute_result",
          "data": {
            "text/plain": [
              "(array([[6.3200e-03, 1.8000e+01, 2.3100e+00, ..., 1.5300e+01, 3.9690e+02,\n",
              "         4.9800e+00],\n",
              "        [2.7310e-02, 0.0000e+00, 7.0700e+00, ..., 1.7800e+01, 3.9690e+02,\n",
              "         9.1400e+00],\n",
              "        [2.7290e-02, 0.0000e+00, 7.0700e+00, ..., 1.7800e+01, 3.9283e+02,\n",
              "         4.0300e+00],\n",
              "        ...,\n",
              "        [6.0760e-02, 0.0000e+00, 1.1930e+01, ..., 2.1000e+01, 3.9690e+02,\n",
              "         5.6400e+00],\n",
              "        [1.0959e-01, 0.0000e+00, 1.1930e+01, ..., 2.1000e+01, 3.9345e+02,\n",
              "         6.4800e+00],\n",
              "        [4.7410e-02, 0.0000e+00, 1.1930e+01, ..., 2.1000e+01, 3.9690e+02,\n",
              "         7.8800e+00]]),\n",
              " array([24. , 21.6, 34.7, 33.4, 36.2, 28.7, 22.9, 27.1, 16.5, 18.9, 15. ,\n",
              "        18.9, 21.7, 20.4, 18.2, 19.9, 23.1, 17.5, 20.2, 18.2, 13.6, 19.6,\n",
              "        15.2, 14.5, 15.6, 13.9, 16.6, 14.8, 18.4, 21. , 12.7, 14.5, 13.2,\n",
              "        13.1, 13.5, 18.9, 20. , 21. , 24.7, 30.8, 34.9, 26.6, 25.3, 24.7,\n",
              "        21.2, 19.3, 20. , 16.6, 14.4, 19.4, 19.7, 20.5, 25. , 23.4, 18.9,\n",
              "        35.4, 24.7, 31.6, 23.3, 19.6, 18.7, 16. , 22.2, 25. , 33. , 23.5,\n",
              "        19.4, 22. , 17.4, 20.9, 24.2, 21.7, 22.8, 23.4, 24.1, 21.4, 20. ,\n",
              "        20.8, 21.2, 20.3, 28. , 23.9, 24.8, 22.9, 23.9, 26.6, 22.5, 22.2,\n",
              "        23.6, 28.7, 22.6, 22. , 22.9, 25. , 20.6, 28.4, 21.4, 38.7, 43.8,\n",
              "        33.2, 27.5, 26.5, 18.6, 19.3, 20.1, 19.5, 19.5, 20.4, 19.8, 19.4,\n",
              "        21.7, 22.8, 18.8, 18.7, 18.5, 18.3, 21.2, 19.2, 20.4, 19.3, 22. ,\n",
              "        20.3, 20.5, 17.3, 18.8, 21.4, 15.7, 16.2, 18. , 14.3, 19.2, 19.6,\n",
              "        23. , 18.4, 15.6, 18.1, 17.4, 17.1, 13.3, 17.8, 14. , 14.4, 13.4,\n",
              "        15.6, 11.8, 13.8, 15.6, 14.6, 17.8, 15.4, 21.5, 19.6, 15.3, 19.4,\n",
              "        17. , 15.6, 13.1, 41.3, 24.3, 23.3, 27. , 50. , 50. , 50. , 22.7,\n",
              "        25. , 50. , 23.8, 23.8, 22.3, 17.4, 19.1, 23.1, 23.6, 22.6, 29.4,\n",
              "        23.2, 24.6, 29.9, 37.2, 39.8, 36.2, 37.9, 32.5, 26.4, 29.6, 50. ,\n",
              "        32. , 29.8, 34.9, 37. , 30.5, 36.4, 31.1, 29.1, 50. , 33.3, 30.3,\n",
              "        34.6, 34.9, 32.9, 24.1, 42.3, 48.5, 50. , 22.6, 24.4, 22.5, 24.4,\n",
              "        20. , 21.7, 19.3, 22.4, 28.1, 23.7, 25. , 23.3, 28.7, 21.5, 23. ,\n",
              "        26.7, 21.7, 27.5, 30.1, 44.8, 50. , 37.6, 31.6, 46.7, 31.5, 24.3,\n",
              "        31.7, 41.7, 48.3, 29. , 24. , 25.1, 31.5, 23.7, 23.3, 22. , 20.1,\n",
              "        22.2, 23.7, 17.6, 18.5, 24.3, 20.5, 24.5, 26.2, 24.4, 24.8, 29.6,\n",
              "        42.8, 21.9, 20.9, 44. , 50. , 36. , 30.1, 33.8, 43.1, 48.8, 31. ,\n",
              "        36.5, 22.8, 30.7, 50. , 43.5, 20.7, 21.1, 25.2, 24.4, 35.2, 32.4,\n",
              "        32. , 33.2, 33.1, 29.1, 35.1, 45.4, 35.4, 46. , 50. , 32.2, 22. ,\n",
              "        20.1, 23.2, 22.3, 24.8, 28.5, 37.3, 27.9, 23.9, 21.7, 28.6, 27.1,\n",
              "        20.3, 22.5, 29. , 24.8, 22. , 26.4, 33.1, 36.1, 28.4, 33.4, 28.2,\n",
              "        22.8, 20.3, 16.1, 22.1, 19.4, 21.6, 23.8, 16.2, 17.8, 19.8, 23.1,\n",
              "        21. , 23.8, 23.1, 20.4, 18.5, 25. , 24.6, 23. , 22.2, 19.3, 22.6,\n",
              "        19.8, 17.1, 19.4, 22.2, 20.7, 21.1, 19.5, 18.5, 20.6, 19. , 18.7,\n",
              "        32.7, 16.5, 23.9, 31.2, 17.5, 17.2, 23.1, 24.5, 26.6, 22.9, 24.1,\n",
              "        18.6, 30.1, 18.2, 20.6, 17.8, 21.7, 22.7, 22.6, 25. , 19.9, 20.8,\n",
              "        16.8, 21.9, 27.5, 21.9, 23.1, 50. , 50. , 50. , 50. , 50. , 13.8,\n",
              "        13.8, 15. , 13.9, 13.3, 13.1, 10.2, 10.4, 10.9, 11.3, 12.3,  8.8,\n",
              "         7.2, 10.5,  7.4, 10.2, 11.5, 15.1, 23.2,  9.7, 13.8, 12.7, 13.1,\n",
              "        12.5,  8.5,  5. ,  6.3,  5.6,  7.2, 12.1,  8.3,  8.5,  5. , 11.9,\n",
              "        27.9, 17.2, 27.5, 15. , 17.2, 17.9, 16.3,  7. ,  7.2,  7.5, 10.4,\n",
              "         8.8,  8.4, 16.7, 14.2, 20.8, 13.4, 11.7,  8.3, 10.2, 10.9, 11. ,\n",
              "         9.5, 14.5, 14.1, 16.1, 14.3, 11.7, 13.4,  9.6,  8.7,  8.4, 12.8,\n",
              "        10.5, 17.1, 18.4, 15.4, 10.8, 11.8, 14.9, 12.6, 14.1, 13. , 13.4,\n",
              "        15.2, 16.1, 17.8, 14.9, 14.1, 12.7, 13.5, 14.9, 20. , 16.4, 17.7,\n",
              "        19.5, 20.2, 21.4, 19.9, 19. , 19.1, 19.1, 20.1, 19.9, 19.6, 23.2,\n",
              "        29.8, 13.8, 13.3, 16.7, 12. , 14.6, 21.4, 23. , 23.7, 25. , 21.8,\n",
              "        20.6, 21.2, 19.1, 20.6, 15.2,  7. ,  8.1, 13.6, 20.1, 21.8, 24.5,\n",
              "        23.1, 19.7, 18.3, 21.2, 17.5, 16.8, 22.4, 20.6, 23.9, 22. , 11.9]))"
            ]
          },
          "metadata": {},
          "execution_count": 1
        }
      ],
      "source": [
        "import pandas as pd\n",
        "import numpy as np\n",
        "\n",
        "data_url = \"http://lib.stat.cmu.edu/datasets/boston\"\n",
        "raw_df = pd.read_csv(data_url, sep=\"\\s+\", skiprows=22, header=None)\n",
        "data = np.hstack([raw_df.values[::2, :], raw_df.values[1::2, :2]])\n",
        "target = raw_df.values[1::2, 2]\n",
        "\n",
        "data, target"
      ]
    },
    {
      "cell_type": "markdown",
      "metadata": {
        "id": "815ut8JJTIM7"
      },
      "source": [
        "#### 1.2. Проектируем архитектуру для этой задачи"
      ]
    },
    {
      "cell_type": "code",
      "execution_count": 2,
      "metadata": {
        "colab": {
          "base_uri": "https://localhost:8080/"
        },
        "id": "alrRyjbs1c8s",
        "outputId": "61f478d1-68d5-4ee1-f8ce-d95c4c9b1b86"
      },
      "outputs": [
        {
          "output_type": "stream",
          "name": "stdout",
          "text": [
            "[3.5809e-01 0.0000e+00 6.2000e+00 1.0000e+00 5.0700e-01 6.9510e+00\n",
            " 8.8500e+01 2.8617e+00 8.0000e+00 3.0700e+02 1.7400e+01 3.9170e+02\n",
            " 9.7100e+00]\n",
            "(404, 13)\n",
            "(102, 13)\n",
            "[[0.00395381 0.         0.21041056 ... 0.5106383  0.98688789 0.22019868]\n",
            " [0.00171339 0.         0.37939883 ... 0.70212766 0.94966968 0.22488962]\n",
            " [0.00120232 0.3        0.1638563  ... 0.42553191 0.98575319 0.26628035]\n",
            " ...\n",
            " [0.00162594 0.         0.35007331 ... 0.55319149 0.99397347 0.23647903]\n",
            " [0.0025059  0.         0.23643695 ... 0.56382979 0.98951031 0.47102649]\n",
            " [0.00149286 0.         0.13159824 ... 0.42553191 1.         0.35761589]]\n",
            "[[6.84726112e-04 0.00000000e+00 1.01906158e-01 ... 4.57446809e-01\n",
            "  9.45307378e-01 1.54801325e-01]\n",
            " [1.03697791e-01 0.00000000e+00 6.46627566e-01 ... 8.08510638e-01\n",
            "  9.22462051e-01 2.15231788e-01]\n",
            " [1.21310718e-03 0.00000000e+00 4.92302053e-01 ... 4.04255319e-01\n",
            "  9.92031873e-01 2.41997792e-01]\n",
            " ...\n",
            " [1.60728552e-03 2.50000000e-01 1.71187683e-01 ... 7.55319149e-01\n",
            "  9.95486409e-01 3.15121413e-01]\n",
            " [1.50837564e-03 0.00000000e+00 3.71334311e-01 ... 6.38297872e-01\n",
            "  9.72035907e-01 2.11092715e-01]\n",
            " [1.36787866e-03 0.00000000e+00 2.96920821e-01 ... 8.82978723e-01\n",
            "  9.95814212e-01 2.90838852e-01]]\n"
          ]
        }
      ],
      "source": [
        "from sklearn.datasets import fetch_california_housing\n",
        "import pandas as pd\n",
        "from keras.layers import Dense\n",
        "from keras.models import Sequential\n",
        "from matplotlib import pyplot as plt\n",
        "import numpy as np\n",
        "import matplotlib\n",
        "\n",
        "from sklearn.model_selection import train_test_split\n",
        "from sklearn.preprocessing import MinMaxScaler\n",
        "from sklearn.preprocessing import StandardScaler\n",
        "\n",
        "%matplotlib inline\n",
        "\n",
        "\n",
        "x_train, x_test, y_train, y_test = train_test_split(data, target, test_size=0.2, random_state=0)\n",
        "\n",
        "print(x_train[0])\n",
        "\n",
        "#scaler = StandardScaler()  # Стандартизация по среднему и стандартному отклонению\n",
        "scaler = MinMaxScaler()  # Масштабирование в диапазон 0-1\n",
        "\n",
        "scaler.fit(data)\n",
        "x_train = scaler.transform(x_train)\n",
        "x_test = scaler.transform(x_test)\n",
        "\n",
        "# Сохранение модели scaler\n",
        "import pickle\n",
        "\n",
        "with open(\"scaler.pkl\", \"wb\") as f:\n",
        "    pickle.dump(scaler, f)\n",
        "\n",
        "print(x_train.shape)\n",
        "print(x_test.shape)\n",
        "print(x_train)\n",
        "print(x_test)"
      ]
    },
    {
      "cell_type": "code",
      "execution_count": 3,
      "metadata": {
        "colab": {
          "base_uri": "https://localhost:8080/"
        },
        "id": "UedGMr_irhBC",
        "outputId": "5f4b3b68-9b1a-4600-8a57-5b6b36e037c5"
      },
      "outputs": [
        {
          "output_type": "stream",
          "name": "stdout",
          "text": [
            "Model: \"sequential\"\n",
            "_________________________________________________________________\n",
            " Layer (type)                Output Shape              Param #   \n",
            "=================================================================\n",
            " dense (Dense)               (None, 25)                350       \n",
            "                                                                 \n",
            " dense_1 (Dense)             (None, 12)                312       \n",
            "                                                                 \n",
            " dense_2 (Dense)             (None, 1)                 13        \n",
            "                                                                 \n",
            "=================================================================\n",
            "Total params: 675 (2.64 KB)\n",
            "Trainable params: 675 (2.64 KB)\n",
            "Non-trainable params: 0 (0.00 Byte)\n",
            "_________________________________________________________________\n"
          ]
        }
      ],
      "source": [
        "from keras.layers import Dense\n",
        "from keras.models import Sequential\n",
        "\n",
        "model = Sequential([\n",
        "    Dense(25, input_shape=(13,), activation='relu'),\n",
        "    Dense(12, activation='relu'),\n",
        "    Dense(1, activation='relu')\n",
        "])\n",
        "\n",
        "model.summary()"
      ]
    },
    {
      "cell_type": "markdown",
      "metadata": {
        "id": "F9E1W4yCT0YC"
      },
      "source": [
        "#### 1.3. Компилируем модель ИНС\n",
        "\n",
        "Подберите нужную функцию потерь и метрику."
      ]
    },
    {
      "cell_type": "code",
      "execution_count": 4,
      "metadata": {
        "id": "NOJsUJIwYiWj"
      },
      "outputs": [],
      "source": [
        "model.compile(optimizer='Adam', loss='mse', metrics='mae')"
      ]
    },
    {
      "cell_type": "markdown",
      "metadata": {
        "id": "ebac-dNAUBtX"
      },
      "source": [
        "#### 1.4. Обучаем модель ИНС"
      ]
    },
    {
      "cell_type": "code",
      "execution_count": 5,
      "metadata": {
        "colab": {
          "base_uri": "https://localhost:8080/"
        },
        "id": "LcVz6t601hFI",
        "outputId": "b2046bc0-c3ae-4552-bc0f-38c4a9b9d8d5"
      },
      "outputs": [
        {
          "output_type": "stream",
          "name": "stdout",
          "text": [
            "Epoch 1/24\n",
            "13/13 [==============================] - 3s 51ms/step - loss: 583.5312 - mae: 22.3377 - val_loss: 557.0201 - val_mae: 21.8105\n",
            "Epoch 2/24\n",
            "13/13 [==============================] - 0s 10ms/step - loss: 569.4588 - mae: 22.0072 - val_loss: 541.4343 - val_mae: 21.4405\n",
            "Epoch 3/24\n",
            "13/13 [==============================] - 0s 14ms/step - loss: 553.7848 - mae: 21.6169 - val_loss: 524.3757 - val_mae: 21.0245\n",
            "Epoch 4/24\n",
            "13/13 [==============================] - 0s 12ms/step - loss: 536.0164 - mae: 21.1795 - val_loss: 504.7111 - val_mae: 20.5343\n",
            "Epoch 5/24\n",
            "13/13 [==============================] - 0s 23ms/step - loss: 515.0824 - mae: 20.6510 - val_loss: 481.4212 - val_mae: 19.9372\n",
            "Epoch 6/24\n",
            "13/13 [==============================] - 0s 23ms/step - loss: 490.2888 - mae: 19.9806 - val_loss: 453.2123 - val_mae: 19.1891\n",
            "Epoch 7/24\n",
            "13/13 [==============================] - 0s 13ms/step - loss: 460.1264 - mae: 19.1708 - val_loss: 420.3682 - val_mae: 18.2843\n",
            "Epoch 8/24\n",
            "13/13 [==============================] - 0s 23ms/step - loss: 425.4950 - mae: 18.2003 - val_loss: 383.9467 - val_mae: 17.2430\n",
            "Epoch 9/24\n",
            "13/13 [==============================] - 0s 23ms/step - loss: 388.1559 - mae: 17.0860 - val_loss: 344.6227 - val_mae: 16.0792\n",
            "Epoch 10/24\n",
            "13/13 [==============================] - 0s 22ms/step - loss: 348.3063 - mae: 15.8659 - val_loss: 304.4916 - val_mae: 14.8364\n",
            "Epoch 11/24\n",
            "13/13 [==============================] - 0s 19ms/step - loss: 308.2550 - mae: 14.6331 - val_loss: 264.5799 - val_mae: 13.5011\n",
            "Epoch 12/24\n",
            "13/13 [==============================] - 0s 30ms/step - loss: 270.5137 - mae: 13.4140 - val_loss: 226.7816 - val_mae: 12.1540\n",
            "Epoch 13/24\n",
            "13/13 [==============================] - 0s 19ms/step - loss: 234.6573 - mae: 12.3288 - val_loss: 194.5285 - val_mae: 11.1139\n",
            "Epoch 14/24\n",
            "13/13 [==============================] - 0s 30ms/step - loss: 204.5956 - mae: 11.3670 - val_loss: 168.1500 - val_mae: 10.1867\n",
            "Epoch 15/24\n",
            "13/13 [==============================] - 0s 27ms/step - loss: 180.7582 - mae: 10.5898 - val_loss: 148.0569 - val_mae: 9.4452\n",
            "Epoch 16/24\n",
            "13/13 [==============================] - 0s 17ms/step - loss: 163.0115 - mae: 10.0425 - val_loss: 133.9708 - val_mae: 8.8896\n",
            "Epoch 17/24\n",
            "13/13 [==============================] - 0s 25ms/step - loss: 151.5014 - mae: 9.7016 - val_loss: 123.9722 - val_mae: 8.4264\n",
            "Epoch 18/24\n",
            "13/13 [==============================] - 0s 17ms/step - loss: 142.3008 - mae: 9.3840 - val_loss: 117.9348 - val_mae: 8.0997\n",
            "Epoch 19/24\n",
            "13/13 [==============================] - 0s 10ms/step - loss: 136.3139 - mae: 9.1629 - val_loss: 113.1605 - val_mae: 7.8429\n",
            "Epoch 20/24\n",
            "13/13 [==============================] - 0s 11ms/step - loss: 131.1402 - mae: 8.9690 - val_loss: 109.0245 - val_mae: 7.6432\n",
            "Epoch 21/24\n",
            "13/13 [==============================] - 0s 8ms/step - loss: 125.9532 - mae: 8.7718 - val_loss: 105.3633 - val_mae: 7.4739\n",
            "Epoch 22/24\n",
            "13/13 [==============================] - 0s 5ms/step - loss: 121.1059 - mae: 8.5581 - val_loss: 101.6881 - val_mae: 7.3039\n",
            "Epoch 23/24\n",
            "13/13 [==============================] - 0s 5ms/step - loss: 116.1002 - mae: 8.3456 - val_loss: 98.1540 - val_mae: 7.1365\n",
            "Epoch 24/24\n",
            "13/13 [==============================] - 0s 8ms/step - loss: 111.1333 - mae: 8.1191 - val_loss: 94.9288 - val_mae: 6.9689\n"
          ]
        }
      ],
      "source": [
        "history = model.fit(x_train, y_train, epochs=24, validation_data=(x_test, y_test))"
      ]
    },
    {
      "cell_type": "markdown",
      "metadata": {
        "id": "mvlGXR3yVMYo"
      },
      "source": [
        "#### 1.6. Делаем предсказания на тестовых данных"
      ]
    },
    {
      "cell_type": "code",
      "execution_count": 6,
      "metadata": {
        "colab": {
          "base_uri": "https://localhost:8080/"
        },
        "id": "Rui6kjT01jEA",
        "outputId": "83c3b9f2-3150-465b-fe92-8e7a8580be48"
      },
      "outputs": [
        {
          "output_type": "stream",
          "name": "stdout",
          "text": [
            "4/4 [==============================] - 0s 4ms/step\n"
          ]
        }
      ],
      "source": [
        "predict = model.predict(x_test)"
      ]
    },
    {
      "cell_type": "markdown",
      "metadata": {
        "id": "NLsmmLVkVhkL"
      },
      "source": [
        "#### 1.7. Вычисляем метрику качества на тестовых данных"
      ]
    },
    {
      "cell_type": "code",
      "execution_count": 7,
      "metadata": {
        "colab": {
          "base_uri": "https://localhost:8080/"
        },
        "id": "V8cpkQnr1jcS",
        "outputId": "b9548775-8e5a-413d-f6e7-7463d3831df9"
      },
      "outputs": [
        {
          "output_type": "execute_result",
          "data": {
            "text/plain": [
              "6.9689000821581075"
            ]
          },
          "metadata": {},
          "execution_count": 7
        }
      ],
      "source": [
        "from sklearn.metrics import mean_absolute_error\n",
        "\n",
        "mean_absolute_error(predict, y_test)"
      ]
    },
    {
      "cell_type": "markdown",
      "metadata": {
        "id": "d4eyitaoKx_E"
      },
      "source": [
        "#### 1.8. Строим график обучения"
      ]
    },
    {
      "cell_type": "code",
      "execution_count": 8,
      "metadata": {
        "colab": {
          "base_uri": "https://localhost:8080/",
          "height": 430
        },
        "id": "tw-JEpqm1jyK",
        "outputId": "1c4fc006-44e0-477a-bb65-d7852fbb4139"
      },
      "outputs": [
        {
          "output_type": "display_data",
          "data": {
            "text/plain": [
              "<Figure size 640x480 with 1 Axes>"
            ],
            "image/png": "[encoded data removed]"
          },
          "metadata": {}
        }
      ],
      "source": [
        "plt.plot(history.history['loss'], label='Train loss')\n",
        "plt.plot(history.history['val_loss'], label='Val loss')\n",
        "plt.legend()\n",
        "plt.show()"
      ]
    },
    {
      "cell_type": "markdown",
      "metadata": {
        "id": "XYMsbjaoMEqT"
      },
      "source": [
        "#### 1.9. Построение графического интерфейса в Gradio Проверка обученной модели пользовательскими данными"
      ]
    },
    {
      "cell_type": "code",
      "execution_count": 9,
      "metadata": {
        "id": "PI14nzENhiaE"
      },
      "outputs": [],
      "source": [
        "def preprocess_input(features, scale_model=\"scaler.pkl\"):\n",
        "  try:\n",
        "    # Преобразование в NumPy массив\n",
        "    features = np.array(features)\n",
        "\n",
        "    # Проверка на пустой массив\n",
        "    if not features.size:\n",
        "      raise ValueError(\"Пустой массив признаков!\")\n",
        "\n",
        "    # Изменение размерности массива (8,) -> (1, 8)\n",
        "    features = features.reshape(1, -1)\n",
        "\n",
        "    # Загрузка модели масштабирования\n",
        "    with open(scale_model, \"rb\") as f:\n",
        "      scaler = pickle.load(f)\n",
        "\n",
        "    # Масштабирование признаков\n",
        "    features = scaler.transform(features)\n",
        "\n",
        "  except Exception as e:\n",
        "    raise ValueError(f\"Ошибка при предобработке: {e}\")\n",
        "\n",
        "  return features"
      ]
    },
    {
      "cell_type": "code",
      "execution_count": 10,
      "metadata": {
        "id": "jDA0QoI4tNZR"
      },
      "outputs": [],
      "source": [
        "def predict_price(*features):\n",
        "  try:\n",
        "    # Предобработка входных признаков\n",
        "    features = preprocess_input(features)\n",
        "\n",
        "    # Прогнозирование цены\n",
        "    prediction = model.predict(features, verbose=0)\n",
        "\n",
        "    # Проверка на ошибки прогнозирования\n",
        "    if np.isnan(prediction).any():\n",
        "      raise ValueError(\"Ошибка при прогнозировании: NaN\")\n",
        "\n",
        "  except Exception as e:\n",
        "    raise ValueError(f\"Ошибка при прогнозировании: {e}\")\n",
        "\n",
        "  # Возвращение прогнозируемой цены\n",
        "  # (умножение на 1000 для отображения в тысячах долларов)\n",
        "  return f\"{prediction[0][0] * 1000}\""
      ]
    },
    {
      "cell_type": "code",
      "execution_count": 11,
      "metadata": {
        "colab": {
          "base_uri": "https://localhost:8080/"
        },
        "id": "uzsynqR9tUAL",
        "outputId": "8508d294-6b44-4533-ccfd-baa5fdc1f8e8"
      },
      "outputs": [
        {
          "output_type": "stream",
          "name": "stdout",
          "text": [
            "Collecting gradio\n",
            "  Downloading gradio-4.31.4-py3-none-any.whl (12.3 MB)\n",
            "\u001b[2K     \u001b[90m━━━━━━━━━━━━━━━━━━━━━━━━━━━━━━━━━━━━━━━━\u001b[0m \u001b[32m12.3/12.3 MB\u001b[0m \u001b[31m54.5 MB/s\u001b[0m eta \u001b[36m0:00:00\u001b[0m\n",
            "\u001b[?25hCollecting aiofiles<24.0,>=22.0 (from gradio)\n",
            "  Downloading aiofiles-23.2.1-py3-none-any.whl (15 kB)\n",
            "Requirement already satisfied: altair<6.0,>=4.2.0 in /usr/local/lib/python3.10/dist-packages (from gradio) (4.2.2)\n",
            "Collecting fastapi (from gradio)\n",
            "  Downloading fastapi-0.111.0-py3-none-any.whl (91 kB)\n",
            "\u001b[2K     \u001b[90m━━━━━━━━━━━━━━━━━━━━━━━━━━━━━━━━━━━━━━━━\u001b[0m \u001b[32m92.0/92.0 kB\u001b[0m \u001b[31m9.8 MB/s\u001b[0m eta \u001b[36m0:00:00\u001b[0m\n",
            "\u001b[?25hCollecting ffmpy (from gradio)\n",
            "  Downloading ffmpy-0.3.2.tar.gz (5.5 kB)\n",
            "  Preparing metadata (setup.py) ... \u001b[?25l\u001b[?25hdone\n",
            "Collecting gradio-client==0.16.4 (from gradio)\n",
            "  Downloading gradio_client-0.16.4-py3-none-any.whl (315 kB)\n",
            "\u001b[2K     \u001b[90m━━━━━━━━━━━━━━━━━━━━━━━━━━━━━━━━━━━━━━━━\u001b[0m \u001b[32m315.9/315.9 kB\u001b[0m \u001b[31m23.7 MB/s\u001b[0m eta \u001b[36m0:00:00\u001b[0m\n",
            "\u001b[?25hCollecting httpx>=0.24.1 (from gradio)\n",
            "  Downloading httpx-0.27.0-py3-none-any.whl (75 kB)\n",
            "\u001b[2K     \u001b[90m━━━━━━━━━━━━━━━━━━━━━━━━━━━━━━━━━━━━━━━━\u001b[0m \u001b[32m75.6/75.6 kB\u001b[0m \u001b[31m8.6 MB/s\u001b[0m eta \u001b[36m0:00:00\u001b[0m\n",
            "\u001b[?25hRequirement already satisfied: huggingface-hub>=0.19.3 in /usr/local/lib/python3.10/dist-packages (from gradio) (0.20.3)\n",
            "Requirement already satisfied: importlib-resources<7.0,>=1.3 in /usr/local/lib/python3.10/dist-packages (from gradio) (6.4.0)\n",
            "Requirement already satisfied: jinja2<4.0 in /usr/local/lib/python3.10/dist-packages (from gradio) (3.1.4)\n",
            "Requirement already satisfied: markupsafe~=2.0 in /usr/local/lib/python3.10/dist-packages (from gradio) (2.1.5)\n",
            "Requirement already satisfied: matplotlib~=3.0 in /usr/local/lib/python3.10/dist-packages (from gradio) (3.7.1)\n",
            "Requirement already satisfied: numpy~=1.0 in /usr/local/lib/python3.10/dist-packages (from gradio) (1.25.2)\n",
            "Collecting orjson~=3.0 (from gradio)\n",
            "  Downloading orjson-3.10.3-cp310-cp310-manylinux_2_17_x86_64.manylinux2014_x86_64.whl (142 kB)\n",
            "\u001b[2K     \u001b[90m━━━━━━━━━━━━━━━━━━━━━━━━━━━━━━━━━━━━━━━━\u001b[0m \u001b[32m142.5/142.5 kB\u001b[0m \u001b[31m14.0 MB/s\u001b[0m eta \u001b[36m0:00:00\u001b[0m\n",
            "\u001b[?25hRequirement already satisfied: packaging in /usr/local/lib/python3.10/dist-packages (from gradio) (24.0)\n",
            "Requirement already satisfied: pandas<3.0,>=1.0 in /usr/local/lib/python3.10/dist-packages (from gradio) (2.0.3)\n",
            "Requirement already satisfied: pillow<11.0,>=8.0 in /usr/local/lib/python3.10/dist-packages (from gradio) (9.4.0)\n",
            "Requirement already satisfied: pydantic>=2.0 in /usr/local/lib/python3.10/dist-packages (from gradio) (2.7.1)\n",
            "Collecting pydub (from gradio)\n",
            "  Downloading pydub-0.25.1-py2.py3-none-any.whl (32 kB)\n",
            "Collecting python-multipart>=0.0.9 (from gradio)\n",
            "  Downloading python_multipart-0.0.9-py3-none-any.whl (22 kB)\n",
            "Requirement already satisfied: pyyaml<7.0,>=5.0 in /usr/local/lib/python3.10/dist-packages (from gradio) (6.0.1)\n",
            "Collecting ruff>=0.2.2; sys_platform != \"emscripten\" (from gradio)\n",
            "  Downloading ruff-0.4.4-py3-none-manylinux_2_17_x86_64.manylinux2014_x86_64.whl (8.7 MB)\n",
            "\u001b[2K     \u001b[90m━━━━━━━━━━━━━━━━━━━━━━━━━━━━━━━━━━━━━━━━\u001b[0m \u001b[32m8.7/8.7 MB\u001b[0m \u001b[31m59.1 MB/s\u001b[0m eta \u001b[36m0:00:00\u001b[0m\n",
            "\u001b[?25hCollecting semantic-version~=2.0 (from gradio)\n",
            "  Downloading semantic_version-2.10.0-py2.py3-none-any.whl (15 kB)\n",
            "Collecting tomlkit==0.12.0 (from gradio)\n",
            "  Downloading tomlkit-0.12.0-py3-none-any.whl (37 kB)\n",
            "Collecting typer<1.0,>=0.12; sys_platform != \"emscripten\" (from gradio)\n",
            "  Downloading typer-0.12.3-py3-none-any.whl (47 kB)\n",
            "\u001b[2K     \u001b[90m━━━━━━━━━━━━━━━━━━━━━━━━━━━━━━━━━━━━━━━━\u001b[0m \u001b[32m47.2/47.2 kB\u001b[0m \u001b[31m4.6 MB/s\u001b[0m eta \u001b[36m0:00:00\u001b[0m\n",
            "\u001b[?25hRequirement already satisfied: typing-extensions~=4.0 in /usr/local/lib/python3.10/dist-packages (from gradio) (4.11.0)\n",
            "Requirement already satisfied: urllib3~=2.0 in /usr/local/lib/python3.10/dist-packages (from gradio) (2.0.7)\n",
            "Collecting uvicorn>=0.14.0; sys_platform != \"emscripten\" (from gradio)\n",
            "  Downloading uvicorn-0.29.0-py3-none-any.whl (60 kB)\n",
            "\u001b[2K     \u001b[90m━━━━━━━━━━━━━━━━━━━━━━━━━━━━━━━━━━━━━━━━\u001b[0m \u001b[32m60.8/60.8 kB\u001b[0m \u001b[31m6.0 MB/s\u001b[0m eta \u001b[36m0:00:00\u001b[0m\n",
            "\u001b[?25hRequirement already satisfied: entrypoints in /usr/local/lib/python3.10/dist-packages (from altair<6.0,>=4.2.0->gradio) (0.4)\n",
            "Requirement already satisfied: jsonschema>=3.0 in /usr/local/lib/python3.10/dist-packages (from altair<6.0,>=4.2.0->gradio) (4.19.2)\n",
            "Requirement already satisfied: toolz in /usr/local/lib/python3.10/dist-packages (from altair<6.0,>=4.2.0->gradio) (0.12.1)\n",
            "Collecting starlette<0.38.0,>=0.37.2 (from fastapi->gradio)\n",
            "  Downloading starlette-0.37.2-py3-none-any.whl (71 kB)\n",
            "\u001b[2K     \u001b[90m━━━━━━━━━━━━━━━━━━━━━━━━━━━━━━━━━━━━━━━━\u001b[0m \u001b[32m71.9/71.9 kB\u001b[0m \u001b[31m8.7 MB/s\u001b[0m eta \u001b[36m0:00:00\u001b[0m\n",
            "\u001b[?25hCollecting fastapi-cli>=0.0.2 (from fastapi->gradio)\n",
            "  Downloading fastapi_cli-0.0.4-py3-none-any.whl (9.5 kB)\n",
            "Collecting ujson!=4.0.2,!=4.1.0,!=4.2.0,!=4.3.0,!=5.0.0,!=5.1.0,>=4.0.1 (from fastapi->gradio)\n",
            "  Downloading ujson-5.10.0-cp310-cp310-manylinux_2_17_x86_64.manylinux2014_x86_64.whl (53 kB)\n",
            "\u001b[2K     \u001b[90m━━━━━━━━━━━━━━━━━━━━━━━━━━━━━━━━━━━━━━━━\u001b[0m \u001b[32m53.6/53.6 kB\u001b[0m \u001b[31m6.1 MB/s\u001b[0m eta \u001b[36m0:00:00\u001b[0m\n",
            "\u001b[?25hCollecting email_validator>=2.0.0 (from fastapi->gradio)\n",
            "  Downloading email_validator-2.1.1-py3-none-any.whl (30 kB)\n",
            "Requirement already satisfied: fsspec in /usr/local/lib/python3.10/dist-packages (from gradio-client==0.16.4->gradio) (2023.6.0)\n",
            "Collecting websockets<12.0,>=10.0 (from gradio-client==0.16.4->gradio)\n",
            "  Downloading websockets-11.0.3-cp310-cp310-manylinux_2_5_x86_64.manylinux1_x86_64.manylinux_2_17_x86_64.manylinux2014_x86_64.whl (129 kB)\n",
            "\u001b[2K     \u001b[90m━━━━━━━━━━━━━━━━━━━━━━━━━━━━━━━━━━━━━━━━\u001b[0m \u001b[32m129.9/129.9 kB\u001b[0m \u001b[31m13.6 MB/s\u001b[0m eta \u001b[36m0:00:00\u001b[0m\n",
            "\u001b[?25hRequirement already satisfied: anyio in /usr/local/lib/python3.10/dist-packages (from httpx>=0.24.1->gradio) (3.7.1)\n",
            "Requirement already satisfied: certifi in /usr/local/lib/python3.10/dist-packages (from httpx>=0.24.1->gradio) (2024.2.2)\n",
            "Collecting httpcore==1.* (from httpx>=0.24.1->gradio)\n",
            "  Downloading httpcore-1.0.5-py3-none-any.whl (77 kB)\n",
            "\u001b[2K     \u001b[90m━━━━━━━━━━━━━━━━━━━━━━━━━━━━━━━━━━━━━━━━\u001b[0m \u001b[32m77.9/77.9 kB\u001b[0m \u001b[31m944.4 kB/s\u001b[0m eta \u001b[36m0:00:00\u001b[0m\n",
            "\u001b[?25hRequirement already satisfied: idna in /usr/local/lib/python3.10/dist-packages (from httpx>=0.24.1->gradio) (3.7)\n",
            "Requirement already satisfied: sniffio in /usr/local/lib/python3.10/dist-packages (from httpx>=0.24.1->gradio) (1.3.1)\n",
            "Requirement already satisfied: filelock in /usr/local/lib/python3.10/dist-packages (from huggingface-hub>=0.19.3->gradio) (3.14.0)\n",
            "Requirement already satisfied: requests in /usr/local/lib/python3.10/dist-packages (from huggingface-hub>=0.19.3->gradio) (2.31.0)\n",
            "Requirement already satisfied: tqdm>=4.42.1 in /usr/local/lib/python3.10/dist-packages (from huggingface-hub>=0.19.3->gradio) (4.66.4)\n",
            "Requirement already satisfied: contourpy>=1.0.1 in /usr/local/lib/python3.10/dist-packages (from matplotlib~=3.0->gradio) (1.2.1)\n",
            "Requirement already satisfied: cycler>=0.10 in /usr/local/lib/python3.10/dist-packages (from matplotlib~=3.0->gradio) (0.12.1)\n",
            "Requirement already satisfied: fonttools>=4.22.0 in /usr/local/lib/python3.10/dist-packages (from matplotlib~=3.0->gradio) (4.51.0)\n",
            "Requirement already satisfied: kiwisolver>=1.0.1 in /usr/local/lib/python3.10/dist-packages (from matplotlib~=3.0->gradio) (1.4.5)\n",
            "Requirement already satisfied: pyparsing>=2.3.1 in /usr/local/lib/python3.10/dist-packages (from matplotlib~=3.0->gradio) (3.1.2)\n",
            "Requirement already satisfied: python-dateutil>=2.7 in /usr/local/lib/python3.10/dist-packages (from matplotlib~=3.0->gradio) (2.8.2)\n",
            "Requirement already satisfied: pytz>=2020.1 in /usr/local/lib/python3.10/dist-packages (from pandas<3.0,>=1.0->gradio) (2023.4)\n",
            "Requirement already satisfied: tzdata>=2022.1 in /usr/local/lib/python3.10/dist-packages (from pandas<3.0,>=1.0->gradio) (2024.1)\n",
            "Requirement already satisfied: annotated-types>=0.4.0 in /usr/local/lib/python3.10/dist-packages (from pydantic>=2.0->gradio) (0.6.0)\n",
            "Requirement already satisfied: pydantic-core==2.18.2 in /usr/local/lib/python3.10/dist-packages (from pydantic>=2.0->gradio) (2.18.2)\n",
            "Requirement already satisfied: click>=8.0.0 in /usr/local/lib/python3.10/dist-packages (from typer<1.0,>=0.12; sys_platform != \"emscripten\"->gradio) (8.1.7)\n",
            "Collecting shellingham>=1.3.0 (from typer<1.0,>=0.12; sys_platform != \"emscripten\"->gradio)\n",
            "  Downloading shellingham-1.5.4-py2.py3-none-any.whl (9.8 kB)\n",
            "Requirement already satisfied: rich>=10.11.0 in /usr/local/lib/python3.10/dist-packages (from typer<1.0,>=0.12; sys_platform != \"emscripten\"->gradio) (13.7.1)\n",
            "Collecting h11>=0.8 (from uvicorn>=0.14.0; sys_platform != \"emscripten\"->gradio)\n",
            "  Downloading h11-0.14.0-py3-none-any.whl (58 kB)\n",
            "\u001b[2K     \u001b[90m━━━━━━━━━━━━━━━━━━━━━━━━━━━━━━━━━━━━━━━━\u001b[0m \u001b[32m58.3/58.3 kB\u001b[0m \u001b[31m6.9 MB/s\u001b[0m eta \u001b[36m0:00:00\u001b[0m\n",
            "\u001b[?25hRequirement already satisfied: attrs>=22.2.0 in /usr/local/lib/python3.10/dist-packages (from jsonschema>=3.0->altair<6.0,>=4.2.0->gradio) (23.2.0)\n",
            "Requirement already satisfied: jsonschema-specifications>=2023.03.6 in /usr/local/lib/python3.10/dist-packages (from jsonschema>=3.0->altair<6.0,>=4.2.0->gradio) (2023.12.1)\n",
            "Requirement already satisfied: referencing>=0.28.4 in /usr/local/lib/python3.10/dist-packages (from jsonschema>=3.0->altair<6.0,>=4.2.0->gradio) (0.35.1)\n",
            "Requirement already satisfied: rpds-py>=0.7.1 in /usr/local/lib/python3.10/dist-packages (from jsonschema>=3.0->altair<6.0,>=4.2.0->gradio) (0.18.1)\n",
            "Collecting dnspython>=2.0.0 (from email_validator>=2.0.0->fastapi->gradio)\n",
            "  Downloading dnspython-2.6.1-py3-none-any.whl (307 kB)\n",
            "\u001b[2K     \u001b[90m━━━━━━━━━━━━━━━━━━━━━━━━━━━━━━━━━━━━━━━━\u001b[0m \u001b[32m307.7/307.7 kB\u001b[0m \u001b[31m28.9 MB/s\u001b[0m eta \u001b[36m0:00:00\u001b[0m\n",
            "\u001b[?25hRequirement already satisfied: exceptiongroup; python_version < \"3.11\" in /usr/local/lib/python3.10/dist-packages (from anyio->httpx>=0.24.1->gradio) (1.2.1)\n",
            "Requirement already satisfied: charset-normalizer<4,>=2 in /usr/local/lib/python3.10/dist-packages (from requests->huggingface-hub>=0.19.3->gradio) (3.3.2)\n",
            "Requirement already satisfied: six>=1.5 in /usr/local/lib/python3.10/dist-packages (from python-dateutil>=2.7->matplotlib~=3.0->gradio) (1.16.0)\n",
            "Requirement already satisfied: markdown-it-py>=2.2.0 in /usr/local/lib/python3.10/dist-packages (from rich>=10.11.0->typer<1.0,>=0.12; sys_platform != \"emscripten\"->gradio) (3.0.0)\n",
            "Requirement already satisfied: pygments<3.0.0,>=2.13.0 in /usr/local/lib/python3.10/dist-packages (from rich>=10.11.0->typer<1.0,>=0.12; sys_platform != \"emscripten\"->gradio) (2.16.1)\n",
            "Requirement already satisfied: mdurl~=0.1 in /usr/local/lib/python3.10/dist-packages (from markdown-it-py>=2.2.0->rich>=10.11.0->typer<1.0,>=0.12; sys_platform != \"emscripten\"->gradio) (0.1.2)\n",
            "Building wheels for collected packages: ffmpy\n",
            "  Building wheel for ffmpy (setup.py) ... \u001b[?25l\u001b[?25hdone\n",
            "  Created wheel for ffmpy: filename=ffmpy-0.3.2-py3-none-any.whl size=5584 sha256=1e296587d7273478a6a2d3b1756894e2d3c85341cc123864d25fde23ff0e7ea1\n",
            "  Stored in directory: /root/.cache/pip/wheels/bd/65/9a/671fc6dcde07d4418df0c592f8df512b26d7a0029c2a23dd81\n",
            "Successfully built ffmpy\n",
            "Installing collected packages: aiofiles, starlette, shellingham, typer, fastapi-cli, h11, httpcore, httpx, python-multipart, ujson, orjson, dnspython, email_validator, uvicorn, fastapi, ffmpy, websockets, gradio-client, pydub, ruff, semantic-version, tomlkit, gradio\n",
            "  Attempting uninstall: typer\n",
            "    Found existing installation: typer 0.9.4\n",
            "    Uninstalling typer-0.9.4:\n",
            "      Successfully uninstalled typer-0.9.4\n",
            "\u001b[31mERROR: pip's legacy dependency resolver does not consider dependency conflicts when selecting packages. This behaviour is the source of the following dependency conflicts.\n",
            "spacy 3.7.4 requires typer<0.10.0,>=0.3.0, but you'll have typer 0.12.3 which is incompatible.\n",
            "weasel 0.3.4 requires typer<0.10.0,>=0.3.0, but you'll have typer 0.12.3 which is incompatible.\u001b[0m\u001b[31m\n",
            "\u001b[0mSuccessfully installed aiofiles-23.2.1 dnspython-2.6.1 email_validator-2.1.1 fastapi-0.111.0 fastapi-cli-0.0.4 ffmpy-0.3.2 gradio-4.31.4 gradio-client-0.16.4 h11-0.14.0 httpcore-1.0.5 httpx-0.27.0 orjson-3.10.3 pydub-0.25.1 python-multipart-0.0.9 ruff-0.4.4 semantic-version-2.10.0 shellingham-1.5.4 starlette-0.37.2 tomlkit-0.12.0 typer-0.12.3 ujson-5.10.0 uvicorn-0.29.0 websockets-11.0.3\n"
          ]
        }
      ],
      "source": [
        "!pip install gradio --use-deprecated=legacy-resolver"
      ]
    },
    {
      "cell_type": "markdown",
      "metadata": {
        "id": "8UQpi9te2D4J"
      },
      "source": [
        "#### 2. Проверка обученной модели пользовательскими данными"
      ]
    },
    {
      "cell_type": "code",
      "execution_count": 12,
      "metadata": {
        "colab": {
          "base_uri": "https://localhost:8080/",
          "height": 626
        },
        "id": "9aohXWhb2Jjh",
        "outputId": "9c4ade59-6b54-42d0-862d-91d0353b75a3"
      },
      "outputs": [
        {
          "output_type": "stream",
          "name": "stdout",
          "text": [
            "Colab notebook detected. This cell will run indefinitely so that you can see errors and logs. To turn off, set debug=False in launch().\n",
            "Running on public URL: https://b0bde77385251e43ea.gradio.live\n",
            "\n",
            "This share link expires in 72 hours. For free permanent hosting and GPU upgrades, run `gradio deploy` from Terminal to deploy to Spaces (https://huggingface.co/spaces)\n"
          ]
        },
        {
          "output_type": "display_data",
          "data": {
            "text/plain": [
              "<IPython.core.display.HTML object>"
            ],
            "text/html": [
              "<div><iframe src=\"https://b0bde77385251e43ea.gradio.live\" width=\"100%\" height=\"500\" allow=\"autoplay; camera; microphone; clipboard-read; clipboard-write;\" frameborder=\"0\" allowfullscreen></iframe></div>"
            ]
          },
          "metadata": {}
        },
        {
          "output_type": "stream",
          "name": "stdout",
          "text": [
            "Keyboard interruption in main thread... closing server.\n",
            "Killing tunnel 127.0.0.1:7860 <> https://b0bde77385251e43ea.gradio.live\n"
          ]
        },
        {
          "output_type": "execute_result",
          "data": {
            "text/plain": []
          },
          "metadata": {},
          "execution_count": 12
        }
      ],
      "source": [
        "import gradio as gr\n",
        "\n",
        "# Интерфейс Gradio\n",
        "interface = gr.Interface(\n",
        "    fn=predict_price,\n",
        "    inputs=[\n",
        "        gr.Slider(label=\"crim\", minimum=0, maximum=100, step=0.01, value=0.35),\n",
        "        gr.Slider(label=\"zn\", minimum=0, maximum=100, step=0.01, value=0.0),\n",
        "        gr.Slider(label=\"indus\", minimum=0, maximum=100, step=0.01, value=6.2),\n",
        "        gr.Slider(label=\"chas\", minimum=0, maximum=1, step=1, value=1.0),\n",
        "        gr.Slider(label=\"nox\", minimum=0, maximum=1, step=0.01, value=0.5),\n",
        "        gr.Slider(label=\"rm\", minimum=1, maximum=10, step=0.1, value=6.9),\n",
        "        gr.Slider(label=\"age\", minimum=0, maximum=100, step=1, value=88),\n",
        "        gr.Slider(label=\"dis\", minimum=0.5, maximum=10, step=0.1, value=2.86),\n",
        "        gr.Slider(label=\"tax\", minimum=10, maximum=500, step=5, value=8),\n",
        "        gr.Slider(label=\"ptatio\", minimum=1, maximum=100, step=0.1, value=307),\n",
        "        gr.Slider(label=\"b\", minimum=10, maximum=1000, step=5, value=17.4),\n",
        "        gr.Slider(label=\"istat\", minimum=0.1, maximum=100, step=0.1, value=391),\n",
        "        gr.Slider(label=\"medv\", minimum=10, maximum=100, step=1, value=9.7),\n",
        "    ],\n",
        "    # Обновление при каждом изменении\n",
        "    # live=True,\n",
        "    outputs=gr.Text(label=\"Predicted Price ($)\"),\n",
        ")\n",
        "\n",
        "# Запуск интерфейса\n",
        "interface.launch(debug=True, share=True)"
      ]
    },
    {
      "cell_type": "markdown",
      "metadata": {
        "id": "DQQMXC8garr3"
      },
      "source": [
        "## Задание №2.Обучение модели ИНС для решения задачи классификации\n",
        "\n"
      ]
    },
    {
      "cell_type": "markdown",
      "metadata": {
        "id": "1OAwSdaG36Ip"
      },
      "source": [
        "Порядок работы:"
      ]
    },
    {
      "cell_type": "markdown",
      "metadata": {
        "id": "q8COT3YubK-X"
      },
      "source": [
        "* 1. Собрать датасет из изображений, соответствующих не менее, чем 3 классам объектов (в\n",
        "примере с пары были кошки, собаки и панды).\n"
      ]
    },
    {
      "cell_type": "markdown",
      "metadata": {
        "id": "YstDH7J2bM5F"
      },
      "source": [
        "- 2. Для каждого класса должно быть собрано не менее 1000 изображений. Количество\n",
        "изображений для каждого класса должно быть одинаковым.\n",
        "Готовые датасеты можно скачать отсюда: https://www.kaggle.com/\n"
      ]
    },
    {
      "cell_type": "markdown",
      "metadata": {
        "id": "9aTvc3A4bN_h"
      },
      "source": [
        "- 3. Обучить модель глубокой нейронной сети для решения задачи классификации\n",
        "изображений, по выбранным Вами классам. (В качестве примера приведён код с пары)\n",
        "В конечном итоге Вы должны сохранить обученную модель для классификации\n",
        "изображений, соответствующих тем классам, которые Вы выбрали, а затем воспользоваться этой моделью для предсказания классов на пользовательских изображениях.\n",
        "\n"
      ]
    },
    {
      "cell_type": "markdown",
      "metadata": {
        "id": "yKU34aHabUfp"
      },
      "source": [
        "> При выполнении заданий пробуйте использовать разные функции потерь,\n",
        "методы оптимизации, функции активации и метрики ошибок."
      ]
    },
    {
      "cell_type": "markdown",
      "metadata": {
        "id": "l8zEG_g8O-Ge"
      },
      "source": [
        "### 1. Устанавливаем зависимости:"
      ]
    },
    {
      "cell_type": "code",
      "execution_count": 13,
      "metadata": {
        "id": "sh6kN7IMO8de"
      },
      "outputs": [],
      "source": [
        "# Импортируем LabelBinarizer для преобразования текстовых меток в векторы\n",
        "# (например, \"кошка\" -> [1, 0, 0], \"собака\" -> [0, 1, 0], \"панда\" -> [0, 0, 1])\n",
        "from sklearn.preprocessing import LabelBinarizer\n",
        "\n",
        "# Импортируем train_test_split для разделения данных на обучающую и тестовую выборки\n",
        "from sklearn.model_selection import train_test_split\n",
        "\n",
        "# Импортируем classification_report для оценки качества классификации\n",
        "from sklearn.metrics import classification_report\n",
        "\n",
        "# Импортируем Sequential для создания последовательной модели нейронной сети\n",
        "from keras.models import Sequential\n",
        "\n",
        "# Импортируем Dense для создания плотных слоев нейронной сети\n",
        "from keras.layers import Dense\n",
        "\n",
        "# Импортируем SGD и Adam для оптимизации обучения нейронной сети\n",
        "from keras.optimizers import SGD, Adam\n",
        "\n",
        "# Импортируем paths из imutils для удобной работы с путями к изображениям\n",
        "from imutils import paths\n",
        "\n",
        "# Импортируем pyplot из matplotlib для визуализации данных\n",
        "import matplotlib.pyplot as plt\n",
        "\n",
        "# Импортируем numpy для работы с массивами данных\n",
        "import numpy as np\n",
        "\n",
        "# Импортируем random для генерации случайных чисел\n",
        "import random\n",
        "\n",
        "# Импортируем pickle для сериализации и десериализации данных\n",
        "import pickle\n",
        "\n",
        "# Импортируем cv2 для работы с изображениями\n",
        "import cv2\n",
        "\n",
        "# Импортируем os для работы с файловой системой\n",
        "import os\n",
        "\n",
        "# Импортируем cv2_imshow из google.colab.patches для отображения изображений в Colab\n",
        "from google.colab.patches import cv2_imshow"
      ]
    },
    {
      "cell_type": "code",
      "execution_count": 14,
      "metadata": {
        "id": "wSRnDokdwade",
        "colab": {
          "base_uri": "https://localhost:8080/"
        },
        "outputId": "69084b31-36cf-41bc-82d3-aa269b146402"
      },
      "outputs": [
        {
          "output_type": "stream",
          "name": "stdout",
          "text": [
            "Mounted at /content/gdrive\n"
          ]
        }
      ],
      "source": [
        "from google.colab import drive\n",
        "drive.mount('/content/gdrive')"
      ]
    },
    {
      "cell_type": "markdown",
      "metadata": {
        "id": "g3lU4j0xwoHm"
      },
      "source": [
        "### 2. Загружаем набор данных:"
      ]
    },
    {
      "cell_type": "markdown",
      "metadata": {
        "id": "pX1km_kyV2Ka"
      },
      "source": [
        "### 3. Указываем путь к набору данных:"
      ]
    },
    {
      "cell_type": "code",
      "execution_count": 15,
      "metadata": {
        "id": "hAqtXKu62-bU"
      },
      "outputs": [],
      "source": [
        "# Собираем список путей к каждому изображению и перемешиваем их\n",
        "imagePaths = sorted(list(paths.list_images(\"/content/gdrive/MyDrive/archive_2/Data\")))\n",
        "random.shuffle(imagePaths)"
      ]
    },
    {
      "cell_type": "markdown",
      "metadata": {
        "id": "sAYZPzKSVobq"
      },
      "source": [
        "### 4. Загружаем набор данных и формируем общую выборку:"
      ]
    },
    {
      "cell_type": "code",
      "execution_count": 16,
      "metadata": {
        "id": "1dqs5r-92-x7"
      },
      "outputs": [],
      "source": [
        "def load_images(imagePaths, compression_size = 32):\n",
        "  \"\"\"\n",
        "  Функция для загрузки изображений и преобразования их в векторы признаков.\n",
        "\n",
        "  Args:/content/gdrive/MyDrive/archive\n",
        "    imagePaths: список путей к изображениям.\n",
        "    compression_size: размер сжатия изображения\n",
        "\n",
        "  Returns:\n",
        "    data: список векторов признаков (сжатых изображений, преобразованных в векторы).\n",
        "    labels: список меток классов.\n",
        "  \"\"\"\n",
        "\n",
        "  data = []\n",
        "  labels = []\n",
        "\n",
        "  for imagePath in imagePaths:\n",
        "    # Загрузка изображения\n",
        "    image = cv2.imread(imagePath)\n",
        "\n",
        "    # Изменение разрешения изображения (по умолчанию 32х32х3 -> 3072,)\n",
        "    image = cv2.resize(image, (compression_size, compression_size)).flatten()\n",
        "\n",
        "    # Добавление изображения в список\n",
        "    data.append(image)\n",
        "\n",
        "    # Извлечение метки класса из пути к изображению\n",
        "    label = imagePath.split(os.path.sep)[-2]\n",
        "\n",
        "    # Добавление метки в список\n",
        "    labels.append(label)\n",
        "\n",
        "  return data, labels"
      ]
    },
    {
      "cell_type": "code",
      "execution_count": 17,
      "metadata": {
        "id": "V5qIKHMYxRW2"
      },
      "outputs": [],
      "source": [
        "compression_size = 32\n",
        "data, labels = load_images(imagePaths, compression_size)"
      ]
    },
    {
      "cell_type": "markdown",
      "metadata": {
        "id": "yeiILoUSXn4c"
      },
      "source": [
        "#### 4.1. Нормализуем данные:"
      ]
    },
    {
      "cell_type": "markdown",
      "metadata": {
        "id": "PceSnJBEZDPm"
      },
      "source": [
        "Масштабируем интенсивности пикселей в диапазон [0, 1], а также преобразуем данные в массивы NumPy для повышения производительности\n"
      ]
    },
    {
      "cell_type": "code",
      "execution_count": 18,
      "metadata": {
        "id": "wejqgr9U2_hf"
      },
      "outputs": [],
      "source": [
        "data = np.array(data, dtype=\"float\") / 255.0\n",
        "labels = np.array(labels)"
      ]
    },
    {
      "cell_type": "markdown",
      "metadata": {
        "id": "lREm4zIRaSsx"
      },
      "source": [
        "#### 4.2. Формируем обучающую и валидационную выборки:"
      ]
    },
    {
      "cell_type": "markdown",
      "metadata": {
        "id": "lwTSSQkPa9oI"
      },
      "source": [
        "Разделяем данные на обучающую и валидационную выборки, используя 75% данных для обучения и оставшиеся 25% для валидации"
      ]
    },
    {
      "cell_type": "code",
      "execution_count": 19,
      "metadata": {
        "id": "_dAyJXLLnaG5"
      },
      "outputs": [],
      "source": [
        "(trainX, valX, trainY, valY) = train_test_split(\n",
        "    data,\n",
        "    labels,\n",
        "    test_size=0.25,\n",
        "    random_state=42)"
      ]
    },
    {
      "cell_type": "code",
      "execution_count": 20,
      "metadata": {
        "id": "Bu-AzTZRmbDn"
      },
      "outputs": [],
      "source": [
        "lb = LabelBinarizer()\n",
        "trainY = lb.fit_transform(trainY)\n",
        "valY = lb.transform(valY)"
      ]
    },
    {
      "cell_type": "markdown",
      "metadata": {
        "id": "Sz33nCuvc3Pk"
      },
      "source": [
        "### 5. Создание модели:"
      ]
    },
    {
      "cell_type": "markdown",
      "metadata": {
        "id": "r2mcOGxEc-uB"
      },
      "source": [
        "#### 5.1. Определим архитектуру модели с помощью Keras:"
      ]
    },
    {
      "cell_type": "code",
      "execution_count": 21,
      "metadata": {
        "id": "nj_bAWxv3B0B"
      },
      "outputs": [],
      "source": [
        "input_shape = (compression_size * compression_size * 3,)"
      ]
    },
    {
      "cell_type": "markdown",
      "metadata": {
        "id": "HHFTdcCkg1Wr"
      },
      "source": [
        "#### 5.2. Установим значение параметров скорости обучения и общего числа эпох\n"
      ]
    },
    {
      "cell_type": "code",
      "execution_count": 22,
      "metadata": {
        "id": "yqhcwu0gmoq-"
      },
      "outputs": [],
      "source": [
        "model = Sequential()\n",
        "model.add(Dense(1024, input_shape=input_shape, activation=\"relu\"))\n",
        "model.add(Dense(128, activation=\"relu\"))\n",
        "model.add(Dense(len(lb.classes_), activation=\"softmax\"))"
      ]
    },
    {
      "cell_type": "markdown",
      "metadata": {
        "id": "YaDdd2wphXLv"
      },
      "source": [
        "#### 5.3. Компилируем модель:"
      ]
    },
    {
      "cell_type": "code",
      "execution_count": 23,
      "metadata": {
        "id": "3mxDQXSc3Cc5"
      },
      "outputs": [],
      "source": [
        "INIT_LR = 0.0001\n",
        "EPOCHS = 4\n",
        "\n",
        "opt = Adam(learning_rate=INIT_LR)\n",
        "model.compile(loss=\"categorical_crossentropy\", optimizer=opt, metrics=[\"accuracy\"])"
      ]
    },
    {
      "cell_type": "markdown",
      "metadata": {
        "id": "EaJdxfw4hwjN"
      },
      "source": [
        "### 6. Обучение модели искусственной нейронной сети:"
      ]
    },
    {
      "cell_type": "markdown",
      "metadata": {
        "id": "KAzlK96zi0dy"
      },
      "source": [
        "#### 6.1. Добавим колбэки для сохранения лучшей модели по валидационной точности и остановки обучения, в случае, если модель перестала обучаться:"
      ]
    },
    {
      "cell_type": "code",
      "execution_count": 24,
      "metadata": {
        "id": "2d6HT9jU3C3E"
      },
      "outputs": [],
      "source": [
        "from keras.callbacks import EarlyStopping, ModelCheckpoint\n",
        "\n",
        "early_stopping = EarlyStopping(patience=5) # Остановка обучения, если\n",
        "                                             # валидационная точность не\n",
        "                                             # улучшается в течение 5 эпох\n",
        "checkpoint = ModelCheckpoint(filepath=\"best_model.h5\",\n",
        "                             monitor=\"val_accuracy\",\n",
        "                             save_best_only=True,\n",
        "                             verbose=0) # Сохранение модели\n",
        "                                         # только при улучшении\n",
        "                                         # валидационной точности"
      ]
    },
    {
      "cell_type": "markdown",
      "metadata": {
        "id": "IgakM035jDPi"
      },
      "source": [
        "#### 6.2. Запустим процесс обучения модели:"
      ]
    },
    {
      "cell_type": "code",
      "execution_count": 25,
      "metadata": {
        "colab": {
          "base_uri": "https://localhost:8080/"
        },
        "id": "YNloZiKH3DMV",
        "outputId": "9bd6a540-68ca-4fdf-f723-92a3e0667cc3"
      },
      "outputs": [
        {
          "output_type": "stream",
          "name": "stdout",
          "text": [
            "Epoch 1/4\n",
            "23/23 [==============================] - 4s 122ms/step - loss: 0.7076 - accuracy: 0.7163 - val_loss: 0.4262 - val_accuracy: 0.8715\n",
            "Epoch 2/4\n"
          ]
        },
        {
          "output_type": "stream",
          "name": "stderr",
          "text": [
            "/usr/local/lib/python3.10/dist-packages/keras/src/engine/training.py:3103: UserWarning: You are saving your model as an HDF5 file via `model.save()`. This file format is considered legacy. We recommend using instead the native Keras format, e.g. `model.save('my_model.keras')`.\n",
            "  saving_api.save_model(\n"
          ]
        },
        {
          "output_type": "stream",
          "name": "stdout",
          "text": [
            "23/23 [==============================] - 3s 119ms/step - loss: 0.3283 - accuracy: 0.8944 - val_loss: 0.2766 - val_accuracy: 0.9245\n",
            "Epoch 3/4\n",
            "23/23 [==============================] - 2s 79ms/step - loss: 0.2177 - accuracy: 0.9408 - val_loss: 0.2066 - val_accuracy: 0.9417\n",
            "Epoch 4/4\n",
            "23/23 [==============================] - 2s 75ms/step - loss: 0.1666 - accuracy: 0.9558 - val_loss: 0.1782 - val_accuracy: 0.9536\n"
          ]
        }
      ],
      "source": [
        "H = model.fit(trainX, trainY,\n",
        "              validation_data=(valX, valY),\n",
        "              epochs=EPOCHS,\n",
        "              batch_size=100,\n",
        "              callbacks=[early_stopping, checkpoint])"
      ]
    },
    {
      "cell_type": "markdown",
      "metadata": {
        "id": "-dESH383noKz"
      },
      "source": [
        "#### 6.3. Загружаем лучшую модель:"
      ]
    },
    {
      "cell_type": "code",
      "execution_count": 26,
      "metadata": {
        "id": "_ZOMBkJk3Dgk"
      },
      "outputs": [],
      "source": [
        "from keras.models import load_model\n",
        "\n",
        "model = load_model(\"/content/best_model.h5\")"
      ]
    },
    {
      "cell_type": "markdown",
      "metadata": {
        "id": "CLv-TknOoQ8l"
      },
      "source": [
        "### 7. Оценка точности:"
      ]
    },
    {
      "cell_type": "markdown",
      "metadata": {
        "id": "J16c8i49o2Kq"
      },
      "source": [
        "#### 7.1. Выведем отчет классификации"
      ]
    },
    {
      "cell_type": "code",
      "execution_count": 27,
      "metadata": {
        "colab": {
          "base_uri": "https://localhost:8080/"
        },
        "id": "cqmQz4mO3D5s",
        "outputId": "03b2e820-4589-4ca7-ec80-6176a08e2698"
      },
      "outputs": [
        {
          "output_type": "stream",
          "name": "stdout",
          "text": [
            "24/24 [==============================] - 1s 22ms/step\n",
            "              precision    recall  f1-score   support\n",
            "\n",
            "      Images       0.00      0.00      0.00         2\n",
            "       anime       0.98      0.96      0.97       244\n",
            "     cartoon       0.94      0.96      0.95       273\n",
            "       human       0.94      0.95      0.95       236\n",
            "\n",
            "    accuracy                           0.95       755\n",
            "   macro avg       0.72      0.72      0.72       755\n",
            "weighted avg       0.95      0.95      0.95       755\n",
            "\n"
          ]
        },
        {
          "output_type": "stream",
          "name": "stderr",
          "text": [
            "/usr/local/lib/python3.10/dist-packages/sklearn/metrics/_classification.py:1344: UndefinedMetricWarning: Precision and F-score are ill-defined and being set to 0.0 in labels with no predicted samples. Use `zero_division` parameter to control this behavior.\n",
            "  _warn_prf(average, modifier, msg_start, len(result))\n",
            "/usr/local/lib/python3.10/dist-packages/sklearn/metrics/_classification.py:1344: UndefinedMetricWarning: Precision and F-score are ill-defined and being set to 0.0 in labels with no predicted samples. Use `zero_division` parameter to control this behavior.\n",
            "  _warn_prf(average, modifier, msg_start, len(result))\n",
            "/usr/local/lib/python3.10/dist-packages/sklearn/metrics/_classification.py:1344: UndefinedMetricWarning: Precision and F-score are ill-defined and being set to 0.0 in labels with no predicted samples. Use `zero_division` parameter to control this behavior.\n",
            "  _warn_prf(average, modifier, msg_start, len(result))\n"
          ]
        }
      ],
      "source": [
        "predictions = model.predict(valX, batch_size=32)\n",
        "print(classification_report(valY.argmax(axis=1),\n",
        "\tpredictions.argmax(axis=1), target_names=lb.classes_))\n"
      ]
    },
    {
      "cell_type": "markdown",
      "metadata": {
        "id": "YwbFnynjpKYS"
      },
      "source": [
        "#### 7.2. Выведем матрицу ошибок"
      ]
    },
    {
      "cell_type": "code",
      "execution_count": 28,
      "metadata": {
        "colab": {
          "base_uri": "https://localhost:8080/",
          "height": 447
        },
        "id": "77_vkdSk3EOd",
        "outputId": "d30f4a66-5fb8-4f3a-d8a9-432591e61890"
      },
      "outputs": [
        {
          "output_type": "stream",
          "name": "stdout",
          "text": [
            "24/24 [==============================] - 0s 9ms/step\n"
          ]
        },
        {
          "output_type": "display_data",
          "data": {
            "text/plain": [
              "<Figure size 640x480 with 2 Axes>"
            ],
            "image/png": "[encoded data removed]"
          },
          "metadata": {}
        }
      ],
      "source": [
        "from sklearn.metrics import confusion_matrix\n",
        "import seaborn as sns\n",
        "\n",
        "# Получим прогнозы по валидационным даннным\n",
        "Y_pred = model.predict(valX, batch_size=32)\n",
        "\n",
        "# Преобразуем вероятности в метки классов\n",
        "Y_pred = Y_pred.argmax(axis=1)\n",
        "valY = valY.argmax(axis=1)\n",
        "\n",
        "# Вычисляем матрицу ошибок\n",
        "conf_mat = confusion_matrix(valY, Y_pred)\n",
        "\n",
        "# Визуализируем матрицу ошибок\n",
        "sns.heatmap(conf_mat, annot=True, fmt=\"d\", cmap=\"YlGnBu\")\n",
        "plt.show()"
      ]
    },
    {
      "cell_type": "code",
      "execution_count": 29,
      "metadata": {
        "colab": {
          "base_uri": "https://localhost:8080/",
          "height": 477
        },
        "id": "ALa4XomM3EmL",
        "outputId": "73bd87b9-21ea-49ea-fca0-04bb455911b6"
      },
      "outputs": [
        {
          "output_type": "display_data",
          "data": {
            "text/plain": [
              "<Figure size 640x480 with 1 Axes>"
            ],
            "image/png": "[encoded data removed]"
          },
          "metadata": {}
        }
      ],
      "source": [
        "# строим графики потерь и точности\n",
        "N = np.arange(0, len(H.history[\"loss\"]))\n",
        "plt.style.use(\"ggplot\")\n",
        "plt.figure()\n",
        "plt.plot(N, H.history[\"loss\"], label=\"train_loss\")\n",
        "plt.plot(N, H.history[\"val_loss\"], label=\"val_loss\")\n",
        "plt.plot(N, H.history[\"accuracy\"], label=\"train_acc\")\n",
        "plt.plot(N, H.history[\"val_accuracy\"], label=\"val_acc\")\n",
        "plt.title(\"Training Loss and Accuracy (Simple NN)\")\n",
        "plt.xlabel(\"Epoch #\")\n",
        "plt.ylabel(\"Loss/Accuracy\")\n",
        "plt.legend()\n",
        "plt.savefig('plot.png')"
      ]
    },
    {
      "cell_type": "markdown",
      "metadata": {
        "id": "RZfpw-xQu3Q8"
      },
      "source": [
        "### 8. Сохранение модели и меток классов:"
      ]
    },
    {
      "cell_type": "code",
      "execution_count": 30,
      "metadata": {
        "id": "mGlt9K8N3E7D"
      },
      "outputs": [],
      "source": [
        "def save_model_and_labels(model, lb, model_path = \"model.h5\", labels_path = \"label_bin\"):\n",
        "    \"\"\"\n",
        "    Сохраняет модель машинного обучения и метки классов в бинарном формате на диск.\n",
        "\n",
        "    Args:\n",
        "        model: Модель машинного обучения.\n",
        "        lb: Метки классов.\n",
        "        model_path: Путь к файлу модели.\n",
        "        labels_path: Путь к файлу меток.\n",
        "\n",
        "    Returns:\n",
        "        None.\n",
        "    \"\"\"\n",
        "\n",
        "    # Сохранение модели\n",
        "    model.save(model_path, save_format=\"h5\")\n",
        "\n",
        "    # Сохранение меток\n",
        "    with open(labels_path, \"wb\") as f:\n",
        "        f.write(pickle.dumps(lb))\n"
      ]
    },
    {
      "cell_type": "code",
      "execution_count": 31,
      "metadata": {
        "colab": {
          "base_uri": "https://localhost:8080/"
        },
        "id": "csU_PFB0508o",
        "outputId": "29f1c3dd-334c-48ec-f7a5-f41360e10dff"
      },
      "outputs": [
        {
          "output_type": "stream",
          "name": "stderr",
          "text": [
            "/usr/local/lib/python3.10/dist-packages/keras/src/engine/training.py:3103: UserWarning: You are saving your model as an HDF5 file via `model.save()`. This file format is considered legacy. We recommend using instead the native Keras format, e.g. `model.save('my_model.keras')`.\n",
            "  saving_api.save_model(\n"
          ]
        }
      ],
      "source": [
        "model_path = \"/content/gdrive/MyDrive/model/model2.keras\"\n",
        "labels_path = \"/content/gdrive/MyDrive/label/labels2\"\n",
        "\n",
        "save_model_and_labels(model, lb, model_path, labels_path)"
      ]
    },
    {
      "cell_type": "markdown",
      "metadata": {
        "id": "YjyCuhw1aeti"
      },
      "source": [
        "### 9. Проверка обученной модели пользовательскими данными:"
      ]
    },
    {
      "cell_type": "markdown",
      "metadata": {
        "id": "yfUIW800wuyu"
      },
      "source": [
        "#### 9.1. Импортируем необходимые библиотеки"
      ]
    },
    {
      "cell_type": "code",
      "execution_count": 32,
      "metadata": {
        "colab": {
          "base_uri": "https://localhost:8080/"
        },
        "id": "wk1qihbS3FR1",
        "outputId": "d9f2c790-b2f6-4e09-e04e-ad4b5fedd848"
      },
      "outputs": [
        {
          "output_type": "stream",
          "name": "stdout",
          "text": [
            "Requirement already satisfied: gradio in /usr/local/lib/python3.10/dist-packages (4.31.4)\n",
            "Requirement already satisfied: aiofiles<24.0,>=22.0 in /usr/local/lib/python3.10/dist-packages (from gradio) (23.2.1)\n",
            "Requirement already satisfied: altair<6.0,>=4.2.0 in /usr/local/lib/python3.10/dist-packages (from gradio) (4.2.2)\n",
            "Requirement already satisfied: fastapi in /usr/local/lib/python3.10/dist-packages (from gradio) (0.111.0)\n",
            "Requirement already satisfied: ffmpy in /usr/local/lib/python3.10/dist-packages (from gradio) (0.3.2)\n",
            "Requirement already satisfied: gradio-client==0.16.4 in /usr/local/lib/python3.10/dist-packages (from gradio) (0.16.4)\n",
            "Requirement already satisfied: httpx>=0.24.1 in /usr/local/lib/python3.10/dist-packages (from gradio) (0.27.0)\n",
            "Requirement already satisfied: huggingface-hub>=0.19.3 in /usr/local/lib/python3.10/dist-packages (from gradio) (0.20.3)\n",
            "Requirement already satisfied: importlib-resources<7.0,>=1.3 in /usr/local/lib/python3.10/dist-packages (from gradio) (6.4.0)\n",
            "Requirement already satisfied: jinja2<4.0 in /usr/local/lib/python3.10/dist-packages (from gradio) (3.1.4)\n",
            "Requirement already satisfied: markupsafe~=2.0 in /usr/local/lib/python3.10/dist-packages (from gradio) (2.1.5)\n",
            "Requirement already satisfied: matplotlib~=3.0 in /usr/local/lib/python3.10/dist-packages (from gradio) (3.7.1)\n",
            "Requirement already satisfied: numpy~=1.0 in /usr/local/lib/python3.10/dist-packages (from gradio) (1.25.2)\n",
            "Requirement already satisfied: orjson~=3.0 in /usr/local/lib/python3.10/dist-packages (from gradio) (3.10.3)\n",
            "Requirement already satisfied: packaging in /usr/local/lib/python3.10/dist-packages (from gradio) (24.0)\n",
            "Requirement already satisfied: pandas<3.0,>=1.0 in /usr/local/lib/python3.10/dist-packages (from gradio) (2.0.3)\n",
            "Requirement already satisfied: pillow<11.0,>=8.0 in /usr/local/lib/python3.10/dist-packages (from gradio) (9.4.0)\n",
            "Requirement already satisfied: pydantic>=2.0 in /usr/local/lib/python3.10/dist-packages (from gradio) (2.7.1)\n",
            "Requirement already satisfied: pydub in /usr/local/lib/python3.10/dist-packages (from gradio) (0.25.1)\n",
            "Requirement already satisfied: python-multipart>=0.0.9 in /usr/local/lib/python3.10/dist-packages (from gradio) (0.0.9)\n",
            "Requirement already satisfied: pyyaml<7.0,>=5.0 in /usr/local/lib/python3.10/dist-packages (from gradio) (6.0.1)\n",
            "Requirement already satisfied: ruff>=0.2.2 in /usr/local/lib/python3.10/dist-packages (from gradio) (0.4.4)\n",
            "Requirement already satisfied: semantic-version~=2.0 in /usr/local/lib/python3.10/dist-packages (from gradio) (2.10.0)\n",
            "Requirement already satisfied: tomlkit==0.12.0 in /usr/local/lib/python3.10/dist-packages (from gradio) (0.12.0)\n",
            "Requirement already satisfied: typer<1.0,>=0.12 in /usr/local/lib/python3.10/dist-packages (from gradio) (0.12.3)\n",
            "Requirement already satisfied: typing-extensions~=4.0 in /usr/local/lib/python3.10/dist-packages (from gradio) (4.11.0)\n",
            "Requirement already satisfied: urllib3~=2.0 in /usr/local/lib/python3.10/dist-packages (from gradio) (2.0.7)\n",
            "Requirement already satisfied: uvicorn>=0.14.0 in /usr/local/lib/python3.10/dist-packages (from gradio) (0.29.0)\n",
            "Requirement already satisfied: fsspec in /usr/local/lib/python3.10/dist-packages (from gradio-client==0.16.4->gradio) (2023.6.0)\n",
            "Requirement already satisfied: websockets<12.0,>=10.0 in /usr/local/lib/python3.10/dist-packages (from gradio-client==0.16.4->gradio) (11.0.3)\n",
            "Requirement already satisfied: entrypoints in /usr/local/lib/python3.10/dist-packages (from altair<6.0,>=4.2.0->gradio) (0.4)\n",
            "Requirement already satisfied: jsonschema>=3.0 in /usr/local/lib/python3.10/dist-packages (from altair<6.0,>=4.2.0->gradio) (4.19.2)\n",
            "Requirement already satisfied: toolz in /usr/local/lib/python3.10/dist-packages (from altair<6.0,>=4.2.0->gradio) (0.12.1)\n",
            "Requirement already satisfied: anyio in /usr/local/lib/python3.10/dist-packages (from httpx>=0.24.1->gradio) (3.7.1)\n",
            "Requirement already satisfied: certifi in /usr/local/lib/python3.10/dist-packages (from httpx>=0.24.1->gradio) (2024.2.2)\n",
            "Requirement already satisfied: httpcore==1.* in /usr/local/lib/python3.10/dist-packages (from httpx>=0.24.1->gradio) (1.0.5)\n",
            "Requirement already satisfied: idna in /usr/local/lib/python3.10/dist-packages (from httpx>=0.24.1->gradio) (3.7)\n",
            "Requirement already satisfied: sniffio in /usr/local/lib/python3.10/dist-packages (from httpx>=0.24.1->gradio) (1.3.1)\n",
            "Requirement already satisfied: h11<0.15,>=0.13 in /usr/local/lib/python3.10/dist-packages (from httpcore==1.*->httpx>=0.24.1->gradio) (0.14.0)\n",
            "Requirement already satisfied: filelock in /usr/local/lib/python3.10/dist-packages (from huggingface-hub>=0.19.3->gradio) (3.14.0)\n",
            "Requirement already satisfied: requests in /usr/local/lib/python3.10/dist-packages (from huggingface-hub>=0.19.3->gradio) (2.31.0)\n",
            "Requirement already satisfied: tqdm>=4.42.1 in /usr/local/lib/python3.10/dist-packages (from huggingface-hub>=0.19.3->gradio) (4.66.4)\n",
            "Requirement already satisfied: contourpy>=1.0.1 in /usr/local/lib/python3.10/dist-packages (from matplotlib~=3.0->gradio) (1.2.1)\n",
            "Requirement already satisfied: cycler>=0.10 in /usr/local/lib/python3.10/dist-packages (from matplotlib~=3.0->gradio) (0.12.1)\n",
            "Requirement already satisfied: fonttools>=4.22.0 in /usr/local/lib/python3.10/dist-packages (from matplotlib~=3.0->gradio) (4.51.0)\n",
            "Requirement already satisfied: kiwisolver>=1.0.1 in /usr/local/lib/python3.10/dist-packages (from matplotlib~=3.0->gradio) (1.4.5)\n",
            "Requirement already satisfied: pyparsing>=2.3.1 in /usr/local/lib/python3.10/dist-packages (from matplotlib~=3.0->gradio) (3.1.2)\n",
            "Requirement already satisfied: python-dateutil>=2.7 in /usr/local/lib/python3.10/dist-packages (from matplotlib~=3.0->gradio) (2.8.2)\n",
            "Requirement already satisfied: pytz>=2020.1 in /usr/local/lib/python3.10/dist-packages (from pandas<3.0,>=1.0->gradio) (2023.4)\n",
            "Requirement already satisfied: tzdata>=2022.1 in /usr/local/lib/python3.10/dist-packages (from pandas<3.0,>=1.0->gradio) (2024.1)\n",
            "Requirement already satisfied: annotated-types>=0.4.0 in /usr/local/lib/python3.10/dist-packages (from pydantic>=2.0->gradio) (0.6.0)\n",
            "Requirement already satisfied: pydantic-core==2.18.2 in /usr/local/lib/python3.10/dist-packages (from pydantic>=2.0->gradio) (2.18.2)\n",
            "Requirement already satisfied: click>=8.0.0 in /usr/local/lib/python3.10/dist-packages (from typer<1.0,>=0.12->gradio) (8.1.7)\n",
            "Requirement already satisfied: shellingham>=1.3.0 in /usr/local/lib/python3.10/dist-packages (from typer<1.0,>=0.12->gradio) (1.5.4)\n",
            "Requirement already satisfied: rich>=10.11.0 in /usr/local/lib/python3.10/dist-packages (from typer<1.0,>=0.12->gradio) (13.7.1)\n",
            "Requirement already satisfied: starlette<0.38.0,>=0.37.2 in /usr/local/lib/python3.10/dist-packages (from fastapi->gradio) (0.37.2)\n",
            "Requirement already satisfied: fastapi-cli>=0.0.2 in /usr/local/lib/python3.10/dist-packages (from fastapi->gradio) (0.0.4)\n",
            "Requirement already satisfied: ujson!=4.0.2,!=4.1.0,!=4.2.0,!=4.3.0,!=5.0.0,!=5.1.0,>=4.0.1 in /usr/local/lib/python3.10/dist-packages (from fastapi->gradio) (5.10.0)\n",
            "Requirement already satisfied: email_validator>=2.0.0 in /usr/local/lib/python3.10/dist-packages (from fastapi->gradio) (2.1.1)\n",
            "Requirement already satisfied: dnspython>=2.0.0 in /usr/local/lib/python3.10/dist-packages (from email_validator>=2.0.0->fastapi->gradio) (2.6.1)\n",
            "Requirement already satisfied: attrs>=22.2.0 in /usr/local/lib/python3.10/dist-packages (from jsonschema>=3.0->altair<6.0,>=4.2.0->gradio) (23.2.0)\n",
            "Requirement already satisfied: jsonschema-specifications>=2023.03.6 in /usr/local/lib/python3.10/dist-packages (from jsonschema>=3.0->altair<6.0,>=4.2.0->gradio) (2023.12.1)\n",
            "Requirement already satisfied: referencing>=0.28.4 in /usr/local/lib/python3.10/dist-packages (from jsonschema>=3.0->altair<6.0,>=4.2.0->gradio) (0.35.1)\n",
            "Requirement already satisfied: rpds-py>=0.7.1 in /usr/local/lib/python3.10/dist-packages (from jsonschema>=3.0->altair<6.0,>=4.2.0->gradio) (0.18.1)\n",
            "Requirement already satisfied: six>=1.5 in /usr/local/lib/python3.10/dist-packages (from python-dateutil>=2.7->matplotlib~=3.0->gradio) (1.16.0)\n",
            "Requirement already satisfied: markdown-it-py>=2.2.0 in /usr/local/lib/python3.10/dist-packages (from rich>=10.11.0->typer<1.0,>=0.12->gradio) (3.0.0)\n",
            "Requirement already satisfied: pygments<3.0.0,>=2.13.0 in /usr/local/lib/python3.10/dist-packages (from rich>=10.11.0->typer<1.0,>=0.12->gradio) (2.16.1)\n",
            "Requirement already satisfied: exceptiongroup in /usr/local/lib/python3.10/dist-packages (from anyio->httpx>=0.24.1->gradio) (1.2.1)\n",
            "Collecting httptools>=0.5.0 (from uvicorn>=0.14.0->gradio)\n",
            "  Downloading httptools-0.6.1-cp310-cp310-manylinux_2_5_x86_64.manylinux1_x86_64.manylinux_2_17_x86_64.manylinux2014_x86_64.whl (341 kB)\n",
            "\u001b[2K     \u001b[90m━━━━━━━━━━━━━━━━━━━━━━━━━━━━━━━━━━━━━━━━\u001b[0m \u001b[32m341.4/341.4 kB\u001b[0m \u001b[31m1.7 MB/s\u001b[0m eta \u001b[36m0:00:00\u001b[0m\n",
            "\u001b[?25hCollecting python-dotenv>=0.13 (from uvicorn>=0.14.0->gradio)\n",
            "  Downloading python_dotenv-1.0.1-py3-none-any.whl (19 kB)\n",
            "Collecting uvloop!=0.15.0,!=0.15.1,>=0.14.0 (from uvicorn>=0.14.0->gradio)\n",
            "  Downloading uvloop-0.19.0-cp310-cp310-manylinux_2_17_x86_64.manylinux2014_x86_64.whl (3.4 MB)\n",
            "\u001b[2K     \u001b[90m━━━━━━━━━━━━━━━━━━━━━━━━━━━━━━━━━━━━━━━━\u001b[0m \u001b[32m3.4/3.4 MB\u001b[0m \u001b[31m2.3 MB/s\u001b[0m eta \u001b[36m0:00:00\u001b[0m\n",
            "\u001b[?25hCollecting watchfiles>=0.13 (from uvicorn>=0.14.0->gradio)\n",
            "  Downloading watchfiles-0.21.0-cp310-cp310-manylinux_2_17_x86_64.manylinux2014_x86_64.whl (1.3 MB)\n",
            "\u001b[2K     \u001b[90m━━━━━━━━━━━━━━━━━━━━━━━━━━━━━━━━━━━━━━━━\u001b[0m \u001b[32m1.3/1.3 MB\u001b[0m \u001b[31m2.1 MB/s\u001b[0m eta \u001b[36m0:00:00\u001b[0m\n",
            "\u001b[?25hRequirement already satisfied: charset-normalizer<4,>=2 in /usr/local/lib/python3.10/dist-packages (from requests->huggingface-hub>=0.19.3->gradio) (3.3.2)\n",
            "Requirement already satisfied: mdurl~=0.1 in /usr/local/lib/python3.10/dist-packages (from markdown-it-py>=2.2.0->rich>=10.11.0->typer<1.0,>=0.12->gradio) (0.1.2)\n",
            "Installing collected packages: uvloop, python-dotenv, httptools, watchfiles\n",
            "Successfully installed httptools-0.6.1 python-dotenv-1.0.1 uvloop-0.19.0 watchfiles-0.21.0\n"
          ]
        }
      ],
      "source": [
        "!pip install gradio"
      ]
    },
    {
      "cell_type": "code",
      "execution_count": 33,
      "metadata": {
        "id": "GvwVSj6B6OOT"
      },
      "outputs": [],
      "source": [
        "from keras.models import load_model\n",
        "import gradio as gr  # Библиотека для создания веб-интерфейсов\n",
        "import pickle\n",
        "import cv2"
      ]
    },
    {
      "cell_type": "markdown",
      "metadata": {
        "id": "PM2dadCBwzES"
      },
      "source": [
        "#### 9.2. Реализуем функцию для предобработки входных данных в той же последовательности, что и при формировании обучающей выборки:"
      ]
    },
    {
      "cell_type": "code",
      "execution_count": 34,
      "metadata": {
        "id": "P4KLc85A3FkU"
      },
      "outputs": [],
      "source": [
        "# Функция для предобработки изображения\n",
        "def preprocess_image(img, compression_size = 32):\n",
        "\n",
        "    \"\"\"\n",
        "    Функция для изменения размера, \"выравнивания\" и масштабирования изображения.\n",
        "\n",
        "    Args:\n",
        "    img: Изображение.\n",
        "\n",
        "    Returns:\n",
        "    Предобработанное изображение.\n",
        "    \"\"\"\n",
        "\n",
        "    image = img.copy()  # Создаем копию изображения\n",
        "    # Изменяем размер изображения до compression_size x compression_size пикселей\n",
        "    image = cv2.resize(image, (compression_size, compression_size))\n",
        "    # Преобразуем изображение в одномерный массив (вектор)\n",
        "    image = image.flatten()\n",
        "    # Масштабируем значения пикселей к диапазону [0, 1]\n",
        "    image = image.astype(\"float\") / 255.0\n",
        "    # Преобразуем массив в формат, совместимый с нашей моделью Keras\n",
        "    image = image.reshape((1, image.shape[0]))\n",
        "\n",
        "    return image"
      ]
    },
    {
      "cell_type": "markdown",
      "metadata": {
        "id": "UXPI1dAIxvPz"
      },
      "source": [
        "#### 9.3. Определим функцию для осуществления прогноза по загруженной модели:"
      ]
    },
    {
      "cell_type": "code",
      "execution_count": 35,
      "metadata": {
        "id": "LO4Ty_t0anmv"
      },
      "outputs": [],
      "source": [
        "def predict_image(img, preprocess_func = preprocess_image):\n",
        "\n",
        "    \"\"\"\n",
        "    Функция для выполнения предсказания класса, возвращает\n",
        "    словарь с вероятностями для каждого класса.\n",
        "\n",
        "    Args:\n",
        "    img: Изображение.\n",
        "    preprocess_funk: Функция для предобработки изображения.\n",
        "    model_path: Путь к файлу модели.\n",
        "    label_path: Путь к файлу с метками.\n",
        "\n",
        "    Returns:\n",
        "    Словарь с метками и вероятностями для каждого класса.\n",
        "    \"\"\"\n",
        "\n",
        "    # Загружаем модель и метки\n",
        "    model = load_model(model_path)  # Загрузка модели Keras\n",
        "    lb = pickle.loads(open(labels_path, \"rb\").read())  # Загрузка словаря с метками\n",
        "\n",
        "    # Делаем предсказание на изображении\n",
        "    image = preprocess_func(img.copy())  # Предобработка изображения\n",
        "    preds = model.predict(image).flatten()  # Выполнение предсказания\n",
        "\n",
        "    # Возвращаем словарь с метками и вероятностями для каждого класса\n",
        "    confidences = {lb.classes_[i]: float(preds[i]) for i in range(len(preds))}\n",
        "\n",
        "    return confidences"
      ]
    },
    {
      "cell_type": "markdown",
      "metadata": {
        "id": "acXaOZ_z3dDq"
      },
      "source": [
        "### 10. Визуализируем интерфейс и произведем классификацию:"
      ]
    },
    {
      "cell_type": "code",
      "execution_count": 36,
      "metadata": {
        "colab": {
          "base_uri": "https://localhost:8080/",
          "height": 643
        },
        "id": "5wW8xYEB3dDr",
        "outputId": "06d48e2b-ef4f-489f-b153-dd753ecd57e0"
      },
      "outputs": [
        {
          "output_type": "stream",
          "name": "stdout",
          "text": [
            "Colab notebook detected. This cell will run indefinitely so that you can see errors and logs. To turn off, set debug=False in launch().\n",
            "Running on public URL: https://c53bd7cc649ce3b395.gradio.live\n",
            "\n",
            "This share link expires in 72 hours. For free permanent hosting and GPU upgrades, run `gradio deploy` from Terminal to deploy to Spaces (https://huggingface.co/spaces)\n"
          ]
        },
        {
          "output_type": "display_data",
          "data": {
            "text/plain": [
              "<IPython.core.display.HTML object>"
            ],
            "text/html": [
              "<div><iframe src=\"https://c53bd7cc649ce3b395.gradio.live\" width=\"100%\" height=\"500\" allow=\"autoplay; camera; microphone; clipboard-read; clipboard-write;\" frameborder=\"0\" allowfullscreen></iframe></div>"
            ]
          },
          "metadata": {}
        },
        {
          "output_type": "stream",
          "name": "stdout",
          "text": [
            "1/1 [==============================] - 0s 106ms/step\n",
            "Keyboard interruption in main thread... closing server.\n",
            "Killing tunnel 127.0.0.1:7860 <> https://c53bd7cc649ce3b395.gradio.live\n"
          ]
        },
        {
          "output_type": "execute_result",
          "data": {
            "text/plain": []
          },
          "metadata": {},
          "execution_count": 36
        }
      ],
      "source": [
        "# Создаем интерфейс Gradio\n",
        "interface = gr.Interface(\n",
        "    fn=predict_image,  # Функция, которая будет вызываться при загрузке изображения\n",
        "    inputs=gr.Image(label=\"Загрузите изображение\"),  # Входные данные: изображение\n",
        "    outputs= gr.Label(num_top_classes=len(lb.classes_)), # Выходные данные: топ-N классов с наибольшей вероятностью\n",
        "    examples = [\"/content/gdrive/MyDrive/archive_2/Data/Images/00989.png\",\"/content/gdrive/MyDrive/archive_2/Data/Images/7_42.jpg\",\"/content/gdrive/MyDrive/archive_2/Data/Images/844_2000.jpg\"]\n",
        "    )\n",
        "\n",
        "# Запускаем интерфейс\n",
        "interface.launch(debug=True, share=True)"
      ]
    },
    {
      "cell_type": "code",
      "execution_count": null,
      "metadata": {
        "id": "Qn98H48j9BNp"
      },
      "outputs": [],
      "source": []
    }
  ],
  "metadata": {
    "accelerator": "GPU",
    "colab": {
      "gpuType": "T4",
      "provenance": [],
      "include_colab_link": true
    },
    "kernelspec": {
      "display_name": "Python 3",
      "name": "python3"
    },
    "language_info": {
      "name": "python"
    }
  },
  "nbformat": 4,
  "nbformat_minor": 0
}